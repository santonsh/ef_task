{
 "metadata": {
  "language_info": {
   "codemirror_mode": {
    "name": "ipython",
    "version": 3
   },
   "file_extension": ".py",
   "mimetype": "text/x-python",
   "name": "python",
   "nbconvert_exporter": "python",
   "pygments_lexer": "ipython3",
   "version": "3.8.3-final"
  },
  "orig_nbformat": 2,
  "kernelspec": {
   "name": "python3",
   "display_name": "Python 3"
  }
 },
 "nbformat": 4,
 "nbformat_minor": 2,
 "cells": [
  {
   "cell_type": "code",
   "execution_count": 15,
   "metadata": {},
   "outputs": [],
   "source": [
    "import pandas as pd\n",
    "import json\n",
    "import numpy as np\n",
    "import time\n",
    "\n",
    "with open('data.json') as f:\n",
    "    data = json.load(f)\n",
    "\n",
    "%matplotlib qt\n",
    "\n",
    "# Reading to dataframe\n",
    "# Creating additional columns\n",
    "gen = ((k, v['assetA']['bid'], v['assetA']['ask'], v['assetB']['bid'], v['assetB']['ask']) for k, v in data.items())\n",
    "data_list = [x for x in gen]\n",
    "df = pd.DataFrame(data_list, columns=['timestamp', 'assetA_bid', 'assetA_ask', 'assetB_bid', 'assetB_ask'])\n",
    "df['delta_t'] = df['timestamp'].astype('uint64').diff()\n",
    "df['trade_freq'] = df.apply (lambda row: 1/row['delta_t'], axis=1)\n",
    "df['trade_freq_avg'] = df['trade_freq'].rolling(window=15).mean()\n",
    "df['datetime'] = pd.to_datetime(df['timestamp'], unit='ms')\n",
    "df = df.set_index('datetime')"
   ]
  },
  {
   "cell_type": "code",
   "execution_count": 18,
   "metadata": {
    "tags": []
   },
   "outputs": [
    {
     "output_type": "stream",
     "name": "stdout",
     "text": "ask      bid  trailing_ask  trailing_bid  spread  \\\ndatetime                                                                        \n2020-01-01 00:00:03.078  7189.00  7188.89           NaN           NaN     NaN   \n2020-01-01 00:00:06.371  7190.09  7190.05           NaN           NaN     NaN   \n2020-01-01 00:00:06.459  7190.09  7190.05           NaN           NaN     NaN   \n2020-01-01 00:00:06.474  7190.43  7190.05           NaN           NaN     NaN   \n2020-01-01 00:00:06.575  7190.39  7190.05      7190.000      7189.818   0.182   \n2020-01-01 00:00:07.242  7190.33  7189.92      7190.266      7190.024   0.242   \n2020-01-01 00:00:07.344  7190.25  7189.92      7190.298      7189.998   0.300   \n2020-01-01 00:00:07.444  7190.21  7189.92      7190.322      7189.972   0.350   \n2020-01-01 00:00:07.545  7190.12  7189.92      7190.260      7189.946   0.314   \n2020-01-01 00:00:07.649  7190.01  7189.92      7190.184      7189.920   0.264   \n\n                         gradient operation  \ndatetime                                     \n2020-01-01 00:00:03.078       NaN      None  \n2020-01-01 00:00:06.371       NaN      None  \n2020-01-01 00:00:06.459       NaN      None  \n2020-01-01 00:00:06.474       NaN      None  \n2020-01-01 00:00:06.575       NaN      sell  \n2020-01-01 00:00:07.242 -0.000004      None  \n2020-01-01 00:00:07.344 -0.000004      None  \n2020-01-01 00:00:07.444 -0.000003      None  \n2020-01-01 00:00:07.545  0.000003      None  \n2020-01-01 00:00:07.649  0.000003      None  \n                             ask     bid  trailing_ask  trailing_bid  spread  \\\ndatetime                                                                       \n2020-01-01 00:00:03.078  7170.25  7169.5           NaN           NaN     NaN   \n2020-01-01 00:00:06.371  7170.25  7169.5           NaN           NaN     NaN   \n2020-01-01 00:00:06.459  7170.50  7169.5           NaN           NaN     NaN   \n2020-01-01 00:00:06.474  7170.50  7169.5           NaN           NaN     NaN   \n2020-01-01 00:00:06.575  7170.50  7169.5       7170.40        7169.5    0.90   \n2020-01-01 00:00:07.242  7170.50  7169.5       7170.45        7169.5    0.95   \n2020-01-01 00:00:07.344  7170.50  7169.5       7170.50        7169.5    1.00   \n2020-01-01 00:00:07.444  7170.50  7169.5       7170.50        7169.5    1.00   \n2020-01-01 00:00:07.545  7170.50  7169.5       7170.50        7169.5    1.00   \n2020-01-01 00:00:07.649  7170.50  7169.5       7170.50        7169.5    1.00   \n\n                         gradient operation  \ndatetime                                     \n2020-01-01 00:00:03.078       NaN      None  \n2020-01-01 00:00:06.371       NaN      None  \n2020-01-01 00:00:06.459       NaN      None  \n2020-01-01 00:00:06.474       NaN      None  \n2020-01-01 00:00:06.575       NaN       buy  \n2020-01-01 00:00:07.242 -0.000003      None  \n2020-01-01 00:00:07.344 -0.000003      None  \n2020-01-01 00:00:07.444  0.000000      None  \n2020-01-01 00:00:07.545  0.000000      None  \n2020-01-01 00:00:07.649  0.000000      None  \n"
    }
   ],
   "source": [
    "\n",
    "w = 7\n",
    "asset = 'B'\n",
    "ax = df['asset'+asset+'_ask'].plot(style='.-', color='tab:orange')\n",
    "df['asset'+asset+'_ask'].rolling(w).mean().shift(int(-w/2)).plot(ax = ax, style=':', color='tab:orange')\n",
    "ax = df['asset'+asset+'_bid'].plot(style='.-', color='tab:blue')\n",
    "df['asset'+asset+'_bid'].rolling(w).mean().shift(int(-w/2)).plot(ax = ax, style=':', color='tab:blue')\n",
    "\n",
    "\n",
    "\n",
    "def compute_trades(df):\n",
    "    # Very simple market making starategy\n",
    "    # if not rising\n",
    "    # spread = abs(trailing ask - training bid)\n",
    "    # if bid >= trailing ask - 0.2*spread then SELL \n",
    "\n",
    "    # if not falling\n",
    "    # spread = abs(trailing ask - training bid)\n",
    "    # if ask <= trailing bid + 0.2*spread then BUY \n",
    "\n",
    "    w=5\n",
    "    # Spread\n",
    "    df['trailing_ask'] = df['ask'].rolling(w).mean()\n",
    "    df['trailing_bid'] = df['bid'].rolling(w).mean()\n",
    "    df['spread'] = (df['trailing_ask']-df['trailing_bid']).abs()\n",
    "    df['gradient'] = (df['trailing_bid']+df['trailing_ask'])/(2*df['trailing_ask'])\n",
    "    df['gradient'] = df['gradient'].diff()\n",
    "    \n",
    "    \n",
    "    #print(df.head(10))\n",
    "\n",
    "    def operation(row):\n",
    "        operation = None\n",
    "        rising_threshold = 0.05\n",
    "        falling_threshold = 0.05\n",
    "        if not row['gradient'] > rising_threshold:\n",
    "            if row['bid'] > row['trailing_ask'] - 0.2*row['spread']:\n",
    "                operation = 'sell'\n",
    "        if not row['gradient'] < falling_threshold:\n",
    "            if row['ask'] < row['trailing_ask'] + 0.2*row['spread']:\n",
    "                operation = 'buy'\n",
    "\n",
    "        return operation\n",
    "    \n",
    "    df['operation'] = df.apply(operation, axis = 1)\n",
    "    print(df.head(10))\n",
    "\n",
    "\n",
    "\n",
    "# analyze assetA\n",
    "dfA = pd.DataFrame()\n",
    "dfA['ask'] = df['assetA_ask']\n",
    "dfA['bid'] = df['assetA_bid']\n",
    "compute_trades(dfA)\n",
    "\n",
    "# analyze assetB\n",
    "dfB = pd.DataFrame()\n",
    "dfB['ask'] = df['assetB_ask']\n",
    "dfB['bid'] = df['assetB_bid']\n",
    "compute_trades(dfB)\n",
    "\n",
    "# constructing action df\n",
    "dfOperations = pd.DataFrame()\n",
    "dfOperations['ts'] = df['timestamp']\n",
    "dfOperations['actionA'] = dfA['operation']\n",
    "dfOperations['actionB'] = dfB['operation']"
   ]
  },
  {
   "cell_type": "code",
   "execution_count": 40,
   "metadata": {
    "tags": []
   },
   "outputs": [],
   "source": [
    "def produce_output(df):\n",
    "    output = []\n",
    "    last_trade = 0\n",
    "    df = df[df.actionB.isin(['sell', 'buy']) | df.actionA.isin(['sell', 'buy'])]\n",
    "    for index, row in df.iterrows():\n",
    "        actions = []\n",
    "        if row['actionA'] == 'sell':\n",
    "            actions.append('sellA')\n",
    "        if row['actionA'] == 'buy':\n",
    "            actions.append('buyA')\n",
    "        if row['actionB'] == 'sell':\n",
    "            actions.append('sellB')\n",
    "        if row['actionB'] == 'buy':\n",
    "            actions.append('buyB')\n",
    "\n",
    "        ts = int(row['ts'])\n",
    "\n",
    "        if len(actions)>0 and ts-last_trade>=30*1000:\n",
    "            output.append({\"time\": int(row['ts']), \"actions\": actions})\n",
    "            last_trade = ts\n",
    "\n",
    "    return output\n",
    "\n",
    "import json\n",
    "output = produce_output(dfOperations)\n",
    "with open('output.json', 'w') as fp:\n",
    "    json.dump(output, fp)\n"
   ]
  },
  {
   "cell_type": "code",
   "execution_count": null,
   "metadata": {},
   "outputs": [],
   "source": []
  }
 ]
}