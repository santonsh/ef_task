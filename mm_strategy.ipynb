{
 "metadata": {
  "language_info": {
   "codemirror_mode": {
    "name": "ipython",
    "version": 3
   },
   "file_extension": ".py",
   "mimetype": "text/x-python",
   "name": "python",
   "nbconvert_exporter": "python",
   "pygments_lexer": "ipython3",
   "version": "3.8.3-final"
  },
  "orig_nbformat": 2,
  "kernelspec": {
   "name": "python3",
   "display_name": "Python 3"
  }
 },
 "nbformat": 4,
 "nbformat_minor": 2,
 "cells": [
  {
   "cell_type": "code",
   "execution_count": 15,
   "metadata": {},
   "outputs": [],
   "source": [
    "import pandas as pd\n",
    "import json\n",
    "import numpy as np\n",
    "import time\n",
    "\n",
    "with open('data.json') as f:\n",
    "    data = json.load(f)\n",
    "\n",
    "%matplotlib qt\n",
    "\n",
    "# Reading to dataframe\n",
    "# Creating additional columns\n",
    "gen = ((k, v['assetA']['bid'], v['assetA']['ask'], v['assetB']['bid'], v['assetB']['ask']) for k, v in data.items())\n",
    "data_list = [x for x in gen]\n",
    "df = pd.DataFrame(data_list, columns=['timestamp', 'assetA_bid', 'assetA_ask', 'assetB_bid', 'assetB_ask'])\n",
    "df['delta_t'] = df['timestamp'].astype('uint64').diff()\n",
    "df['trade_freq'] = df.apply (lambda row: 1/row['delta_t'], axis=1)\n",
    "df['trade_freq_avg'] = df['trade_freq'].rolling(window=15).mean()\n",
    "df['datetime'] = pd.to_datetime(df['timestamp'], unit='ms')\n",
    "df = df.set_index('datetime')"
   ]
  },
  {
   "cell_type": "code",
   "execution_count": 41,
   "metadata": {
    "tags": []
   },
   "outputs": [
    {
     "output_type": "execute_result",
     "data": {
      "text/plain": "<matplotlib.axes._subplots.AxesSubplot at 0x16e37596970>"
     },
     "metadata": {},
     "execution_count": 41
    }
   ],
   "source": [
    "\n",
    "# Lets plot the signals again\n",
    "w = 7\n",
    "asset = 'B'\n",
    "ax = df['asset'+asset+'_ask'].plot(style='.-', color='tab:orange')\n",
    "df['asset'+asset+'_ask'].rolling(w).mean().shift(int(-w/2)).plot(ax = ax, style=':', color='tab:orange')\n",
    "ax = df['asset'+asset+'_bid'].plot(style='.-', color='tab:blue')\n",
    "df['asset'+asset+'_bid'].rolling(w).mean().shift(int(-w/2)).plot(ax = ax, style=':', color='tab:blue')\n",
    "\n"
   ]
  },
  {
   "cell_type": "code",
   "execution_count": 42,
   "metadata": {},
   "outputs": [],
   "source": [
    "# Simple market making 'on DataFrame' trading functions\n",
    "def compute_trading_decision(row, spread_trade_margin = 0.2, rise_th = 0.05, fall_th = 0.05):\n",
    "    # A simple function to decide on operation at moment t based on params and market status\n",
    "    # rise_th - a threshold to detect market rising situation\n",
    "    # fall_th - a threshold to detect market rising situation\n",
    "    # spread_trade_margin - a margin from the ask/bid trends at which mm trade is considered profitable \n",
    "    operation = None\n",
    "    if not row['gradient'] > rise_th: # if not rising\n",
    "        if row['bid'] > row['trailing_ask'] - spread_trade_margin*row['spread']:\n",
    "            operation = 'sell'\n",
    "    if not row['gradient'] < fall_th: # if not falling\n",
    "        if row['ask'] < row['trailing_ask'] + spread_trade_margin*row['spread']:\n",
    "            operation = 'buy'\n",
    "\n",
    "    return operation\n",
    "\n",
    "def compute_trades(df, avg_w = 5, spread_trade_margin = 0.2, rise_th = 0.05, fall_th = 0.05):\n",
    "    # Very simple market making starategy\n",
    "    # if not rising\n",
    "    # spread = abs(trailing ask - training bid)\n",
    "    # if bid >= trailing ask - margin*spread then SELL \n",
    "\n",
    "    # if not falling\n",
    "    # spread = abs(trailing ask - training bid)\n",
    "    # if ask <= trailing bid + margin*spread then BUY \n",
    "\n",
    "    # inputs:\n",
    "    # avg_w - averaging window size to get ask and bid trends\n",
    "    # rise_th - a threshold to detect market rising situation\n",
    "    # fall_th - a threshold to detect market rising situation\n",
    "    # spread_trade_margin - a margin from the ask/bid trends at which mm trade is considered profitable \n",
    "\n",
    "    # Trends\n",
    "    df['trailing_ask'] = df['ask'].rolling(avg_w).mean()\n",
    "    df['trailing_bid'] = df['bid'].rolling(avg_w).mean()\n",
    "    # Spread\n",
    "    df['spread'] = (df['trailing_ask']-df['trailing_bid']).abs()\n",
    "    # Price gradient trend\n",
    "    df['gradient'] = (df['trailing_bid']+df['trailing_ask'])/(2*df['trailing_ask'])\n",
    "    df['gradient'] = df['gradient'].diff()\n",
    "    \n",
    "    df['operation'] = df.apply(compute_trading_decision, axis = 1, rise_th = rise_th, fall_th = fall_th, spread_trade_margin = spread_trade_margin )\n",
    "\n"
   ]
  },
  {
   "cell_type": "code",
   "execution_count": 43,
   "metadata": {},
   "outputs": [
    {
     "output_type": "error",
     "ename": "SyntaxError",
     "evalue": "invalid syntax (<ipython-input-43-fe2c1ab91653>, line 4)",
     "traceback": [
      "\u001b[1;36m  File \u001b[1;32m\"<ipython-input-43-fe2c1ab91653>\"\u001b[1;36m, line \u001b[1;32m4\u001b[0m\n\u001b[1;33m    props = {'spread_trade_margin'  = 0.2,\u001b[0m\n\u001b[1;37m                                    ^\u001b[0m\n\u001b[1;31mSyntaxError\u001b[0m\u001b[1;31m:\u001b[0m invalid syntax\n"
     ]
    }
   ],
   "source": [
    "# Lets compute trades with above strategy\n",
    "\n",
    "# Props (see description in the above function)\n",
    "props = {'spread_trade_margin'  : 0.2,\n",
    "         'rise_th'              : 0.05, \n",
    "         'fall_th'              : 0.05,\n",
    "         'avg_w'                : 5}\n",
    "\n",
    "# compute for assetA\n",
    "dfA = pd.DataFrame()\n",
    "dfA['ask'] = df['assetA_ask']\n",
    "dfA['bid'] = df['assetA_bid']\n",
    "compute_trades(dfA, **props)\n",
    "\n",
    "# compute for assetB\n",
    "dfB = pd.DataFrame()\n",
    "dfB['ask'] = df['assetB_ask']\n",
    "dfB['bid'] = df['assetB_bid']\n",
    "compute_trades(dfB, **props)\n",
    "\n",
    "# constructing action df\n",
    "dfOperations = pd.DataFrame()\n",
    "dfOperations['ts'] = df['timestamp']\n",
    "dfOperations['actionA'] = dfA['operation']\n",
    "dfOperations['actionB'] = dfB['operation']\n",
    "\n",
    "# unify and write the operations to output.json\n",
    "def produce_output_dict(df):\n",
    "    output = []\n",
    "    last_trade = 0\n",
    "    df = df[df.actionB.isin(['sell', 'buy']) | df.actionA.isin(['sell', 'buy'])]\n",
    "    for index, row in df.iterrows():\n",
    "        actions = []\n",
    "        if row['actionA'] == 'sell':\n",
    "            actions.append('sellA')\n",
    "        if row['actionA'] == 'buy':\n",
    "            actions.append('buyA')\n",
    "        if row['actionB'] == 'sell':\n",
    "            actions.append('sellB')\n",
    "        if row['actionB'] == 'buy':\n",
    "            actions.append('buyB')\n",
    "\n",
    "        ts = int(row['ts'])\n",
    "\n",
    "        if len(actions)>0 and ts-last_trade>=30*1000:\n",
    "            output.append({\"time\": int(row['ts']), \"actions\": actions})\n",
    "            last_trade = ts\n",
    "\n",
    "    return output\n",
    "\n",
    "import json\n",
    "output = produce_output_dict(dfOperations)\n",
    "with open('output.json', 'w') as fp:\n",
    "    json.dump(output, fp)\n"
   ]
  },
  {
   "cell_type": "code",
   "execution_count": null,
   "metadata": {},
   "outputs": [],
   "source": []
  }
 ]
}