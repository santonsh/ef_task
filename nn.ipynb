{
 "metadata": {
  "language_info": {
   "codemirror_mode": {
    "name": "ipython",
    "version": 3
   },
   "file_extension": ".py",
   "mimetype": "text/x-python",
   "name": "python",
   "nbconvert_exporter": "python",
   "pygments_lexer": "ipython3",
   "version": 3
  },
  "orig_nbformat": 2
 },
 "nbformat": 4,
 "nbformat_minor": 2,
 "cells": [
  {
   "cell_type": "code",
   "execution_count": null,
   "metadata": {},
   "outputs": [],
   "source": [
    "\n",
    "import pandas as pd\n",
    "import json\n",
    "import numpy as np\n",
    "import time\n",
    "\n",
    "with open('data.json') as f:\n",
    "    data = json.load(f)\n",
    "\n",
    "%matplotlib qt\n"
   ]
  },
  {
   "cell_type": "code",
   "execution_count": null,
   "metadata": {},
   "outputs": [],
   "source": [
    "# Reading to dataframe\n",
    "# Creating additional columns\n",
    "gen = ((k, v['assetA']['bid'], v['assetA']['ask'], v['assetB']['bid'], v['assetB']['ask']) for k, v in data.items())\n",
    "data_list = [x for x in gen]\n",
    "df = pd.DataFrame(data_list, columns=['timestamp', 'assetA_bid', 'assetA_ask', 'assetB_bid', 'assetB_ask'])\n",
    "df['delta_t'] = df['timestamp'].astype('uint64').diff()\n",
    "df['trade_freq'] = df.apply (lambda row: 1/row['delta_t'], axis=1)\n",
    "df['trade_freq_avg'] = df['trade_freq'].rolling(window=15).mean()\n",
    "df['ts'] = df['timestamp']\n",
    "df = df.set_index('timestamp')"
   ]
  },
  {
   "cell_type": "code",
   "execution_count": null,
   "metadata": {},
   "outputs": [],
   "source": [
    "# Model description\n",
    "# Inputs:\n",
    "#       asset bid history\n",
    "#       asset ask history\n",
    "#       common timesamples for each bid-ask pair\n",
    "#       2D array of [n x 3]\n",
    "# Outputs:\n",
    "#       asset bid future [k samples]\n",
    "#       asset ask future [k samples]\n",
    "#       2D array of [k x 2]\n"
   ]
  },
  {
   "cell_type": "code",
   "execution_count": null,
   "metadata": {},
   "outputs": [],
   "source": [
    "\n",
    "# training\n",
    "\n",
    "length = 90\n",
    "# getting the data\n",
    "hist = [df_scaled.shift(-x).values[:length] for x in range(len(df)-length)]\n",
    "target = [df_scaled.shift(-length).values[:len(df)-length]]\n",
    "hist = np.array(hist)\n",
    "target = np.array(target)\n",
    "\n",
    "\n",
    "hist = hist[:, :, 0]\n",
    "target = target[0, :, 0]\n",
    "target = target.reshape(-1, 1)\n",
    "hist = hist.reshape(hist.shape + (1,))\n",
    "print(hist.shape)\n",
    "print(target.shape)\n",
    "\n",
    "\n",
    "# getting training and test array\n",
    "df_len = len(df)\n",
    "training_set_ratio = 75\n",
    "X_train = hist[:df_len//100*training_set_ratio, :, :]\n",
    "X_test = hist[df_len//100*training_set_ratio:, :, :]\n",
    "X2_test = hist[df_len//4:df_len//4*3, :, :]\n",
    "y_train = target[:df_len//100*training_set_ratio, :]\n",
    "y_test = target[df_len//100*training_set_ratio:, :]\n",
    "y2_test = target[df_len//4:df_len//4*3, :]\n",
    "\n",
    "# building LSTM\n",
    "try:\n",
    "    model = models.load_model('saved_model.model')\n",
    "except:\n",
    "    model = tf.keras.Sequential()\n",
    "    model.add(layers.LSTM(units=32, return_sequences=True,\n",
    "                          input_shape=(90, 1), dropout=0.2))\n",
    "    model.add(layers.LSTM(units=32, return_sequences=True, dropout=0.2))\n",
    "    model.add(layers.LSTM(units=32, dropout=0.2))\n",
    "    model.add(layers.Dense(units=1))\n",
    "    model.summary()\n",
    "\n",
    "    model.compile(optimizer='adam', loss='mean_squared_error')\n",
    "    print(tf.__version__)\n",
    "    history = model.fit(X_train, y_train, epochs=20, batch_size=32)\n",
    "\n",
    "    model.save('saved_model.model')\n",
    "\n",
    "    loss = history.history['loss']\n",
    "    epoch_count = range(1, len(loss) + 1)\n",
    "    plt.figure(figsize=(12, 8))\n",
    "    plt.plot(epoch_count, loss, 'r--')\n",
    "    plt.legend(['Training Loss'])\n",
    "    plt.xlabel('Epoch')\n",
    "    plt.ylabel('Loss')\n",
    "    plt.show()\n",
    "\n"
   ]
  }
 ]
}